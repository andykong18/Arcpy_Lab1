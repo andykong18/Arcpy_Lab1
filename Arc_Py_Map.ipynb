{
 "cells": [
  {
   "cell_type": "markdown",
   "metadata": {},
   "source": [
    "# Andy Kong Arcpy Lab 1\n",
    "\n",
    "#### Importing arcy and setting up the workspace\n"
   ]
  },
  {
   "cell_type": "code",
   "execution_count": 2,
   "metadata": {
    "collapsed": true
   },
   "outputs": [],
   "source": [
    "# import the system to be able to use arcpy\n",
    "import sys\n",
    "sys.path.append('C:\\\\Program Files (x86)\\\\ArcGIS\\\\Desktop10.5\\\\bin')\n",
    "sys.path.append('C:\\\\Program Files (x86)\\\\ArcGIS\\\\Desktop10.5\\\\arcpy')\n",
    "sys.path.append('C:\\\\Program Files (x86)\\\\ArcGIS\\\\Desktop10.5\\\\ArcToolbox\\\\Scripts')\n",
    "import arcpy"
   ]
  },
  {
   "cell_type": "code",
   "execution_count": 3,
   "metadata": {},
   "outputs": [
    {
     "data": {
      "text/plain": [
       "<Result 'C:\\\\Users\\\\andykong\\\\Documents\\\\Geog_458\\\\saep_bg10_copy.shp'>"
      ]
     },
     "execution_count": 3,
     "metadata": {},
     "output_type": "execute_result"
    }
   ],
   "source": [
    "arcpy.env.overwriteOutput = True\n",
    "\n",
    "arcpy.management.CopyFeatures(\n",
    "    \"C:\\\\Users\\\\andykong\\\\Documents\\\\Geog_458\\\\saep_bg10.shp\",\n",
    "    \"C:\\\\Users\\\\andykong\\\\Documents\\\\Geog_458\\\\saep_bg10_copy.shp\")\n"
   ]
  },
  {
   "cell_type": "code",
   "execution_count": 14,
   "metadata": {},
   "outputs": [],
   "source": [
    "import os\n",
    "from subprocess import call\n",
    "os.environ[\"GDAL_DATA\"] = \"C:\\\\OSGeo4W64\\\\share\\\\gdal\"\n",
    "os.environ[\"GDAL_DRIVER_PATH\"] = \"C:\\\\OSGeo4W64\\\\bin\\\\gdalplugins\"\n",
    "os.environ[\"PROJ_LIB\"] = \"C:\\\\OSGeo4W64\\\\share\\\\proj\"\n",
    "os.environ[\"PATH\"] = \"C:\\\\OSGeo4W64\\\\bin;\"+os.environ[\"PATH\"]+\";C:\\\\OSGeo4W64\\\\apps\\\\msys\\\\bin;C:\\\\OSGeo4W64\\\\apps\\\\Python27\\\\Scripts\""
   ]
  },
  {
   "cell_type": "code",
   "execution_count": 6,
   "metadata": {
    "collapsed": true
   },
   "outputs": [],
   "source": [
    "arcpy.env.workspace = \"C:\\\\Users\\\\andykong\\\\Documents\\\\Geog_458\\\\saep_bg10_copy\"\n",
    "input_shapefile = \"C:\\\\Users\\\\andykong\\\\Documents\\\\Geog_458\\\\saep_bg10_copy.shp\"\n",
    "input_database = \"C:\\\\Users\\\\andykong\\\\Documents\\\\Geog_458\\\\WashingtonFIPS.dbf\""
   ]
  },
  {
   "cell_type": "markdown",
   "metadata": {},
   "source": [
    "#### Adding a county name field to the census shape file and joining the two county name with the FIPS code"
   ]
  },
  {
   "cell_type": "code",
   "execution_count": 7,
   "metadata": {},
   "outputs": [],
   "source": [
    "arcpy.management.AddField(input_shapefile,\"countyName\",\"STRING\")\n",
    "arcpy.env.overwriteOutput = True\n"
   ]
  },
  {
   "cell_type": "code",
   "execution_count": 8,
   "metadata": {
    "collapsed": true
   },
   "outputs": [],
   "source": [
    "census_fields = arcpy.da.UpdateCursor(input_shapefile,[\"COUNTYFP10\",\"countyName\"])\n",
    "    \n",
    "for row1 in census_fields:\n",
    "    Table_fields = arcpy.da.SearchCursor(input_database,[\"FIPSCounty\",\"CountyName\"])\n",
    "    for row2 in Table_fields:\n",
    "        if(row1[0]==row2[0]):\n",
    "            row1[1]=row2[1]\n",
    "    census_fields.updateRow(row1)\n",
    "    del Table_fields\n",
    "del census_fields\n"
   ]
  },
  {
   "cell_type": "markdown",
   "metadata": {},
   "source": [
    "#### appending list of County names in to an array"
   ]
  },
  {
   "cell_type": "code",
   "execution_count": 9,
   "metadata": {
    "scrolled": true
   },
   "outputs": [
    {
     "name": "stdout",
     "output_type": "stream",
     "text": [
      "[u'Adams', u'Asotin', u'Benton', u'Chelan', u'Clallam', u'Clark', u'Columbia', u'Cowlitz', u'Douglas', u'Ferry', u'Franklin', u'Garfield', u'Grant', u'Grays Harbor', u'Island', u'Jefferson', u'King', u'Kitsap', u'Kittitas', u'Klickitat', u'Lewis', u'Lincoln', u'Mason', u'Okanogan', u'Pacific', u'Pend Oreille', u'Pierce', u'San Juan', u'Skagit', u'Skamania', u'Snohomish', u'Spokane', u'Stevens', u'Thurston', u'Wahkiakum', u'Walla Walla', u'Whatcom', u'Whitman', u'Yakima']\n"
     ]
    }
   ],
   "source": [
    "county_list = []\n",
    "cursor = arcpy.da.SearchCursor(input_database, [\"CountyName\"])\n",
    "for row in cursor:\n",
    "    county_list.append(row[0])\n",
    "del cursor\n",
    "print county_list"
   ]
  },
  {
   "cell_type": "markdown",
   "metadata": {},
   "source": [
    "#### Converting list of County Shapefiles into GeoJson files"
   ]
  },
  {
   "cell_type": "code",
   "execution_count": 10,
   "metadata": {
    "collapsed": true
   },
   "outputs": [],
   "source": [
    "directory = \"C:\\\\Users\\\\andykong\\\\Documents\\\\Geog_458\\\\Shapefiles\""
   ]
  },
  {
   "cell_type": "code",
   "execution_count": 12,
   "metadata": {},
   "outputs": [],
   "source": [
    "for row in county_list:\n",
    "    arcpy.FeatureClassToFeatureClass_conversion(input_shapefile,directory,str(row),'\"CountyName\" =' + \"'%s'\" %i)"
   ]
  },
  {
   "cell_type": "code",
   "execution_count": 15,
   "metadata": {
    "collapsed": true
   },
   "outputs": [],
   "source": [
    "for row in county_list:\n",
    "    call(['C:\\\\OSGeo4W64\\\\bin\\\\ogr2ogr',   \n",
    "      '-f','GeoJSON','-t_srs','WGS84',\n",
    "      '-s_srs','EPSG:2927',         #followed lab instructions to Create EPSG from the proj of saep_bg10_copy\n",
    "      'C:\\\\Users\\\\andykong\\\\Documents\\\\Geog_458\\\\Shapefiles' + row +'.geojson', #used i variable for each county\n",
    "      'C:\\\\Users\\\\andykong\\\\Documents\\\\Geog_458\\\\Shapefiles' + row +'.shp'])"
   ]
  },
  {
   "cell_type": "markdown",
   "metadata": {},
   "source": [
    "#### Creates a list of county population and rank the top ten largest population"
   ]
  },
  {
   "cell_type": "code",
   "execution_count": 25,
   "metadata": {},
   "outputs": [
    {
     "name": "stdout",
     "output_type": "stream",
     "text": [
      "[19870.0, 22290.0, 193499.99999999997, 76829.99999999999, 74240.00000000001, 470999.9999999994, 4100.0, 105900.00000000001, 41420.0, 7740.0, 90330.00000000003, 2200.0, 95630.0, 72970.0, 82790.0, 31360.0, 2153700.0, 264300.00000000006, 44730.0, 21660.0, 77440.00000000003, 10700.0, 63190.00000000001, 42110.00000000001, 21249.999999999996, 13370.0, 859400.0000000003, 16510.0, 124100.00000000001, 11690.0, 789400.0000000005, 499800.0, 44510.0, 276899.9999999999, 4030.0, 61399.999999999985, 216300.00000000003, 48639.99999999999, 253000.0]\n"
     ]
    }
   ],
   "source": [
    "#creates a list with the population of each county\n",
    "pop_list = []\n",
    "for i in county_list:\n",
    "    pop = 0      \n",
    "    cursor = arcpy.da.SearchCursor(input_shapefile, [\"POP2017\"], '\"CountyName\" = ' + \"'%s'\" %i) #where expression used from the above sql statement\n",
    "    for row in cursor:\n",
    "        pop += row[0]\n",
    "    pop_list.append(pop) \n",
    "\n",
    "del cursor \n",
    "print pop_list\n"
   ]
  },
  {
   "cell_type": "code",
   "execution_count": 35,
   "metadata": {},
   "outputs": [
    {
     "name": "stdout",
     "output_type": "stream",
     "text": [
      "2153700.0\n",
      "859400.0\n",
      "789400.0\n",
      "499800.0\n",
      "471000.0\n",
      "276900.0\n",
      "264300.0\n",
      "253000.0\n",
      "216300.0\n",
      "193500.0\n"
     ]
    }
   ],
   "source": [
    "pop_list.sort(reverse=True) # organizes list in descending order\n",
    "top = 0\n",
    "while top < 10: #while statement for the top 10 populations\n",
    "    print pop_list[top] \n",
    "    top += 1\n"
   ]
  },
  {
   "cell_type": "markdown",
   "metadata": {},
   "source": [
    "# Reflection\n",
    "\n",
    "Initially I wanted to try to join the shapefile with the database file using the join field command. Once that didn't work out I referenced using Cursor to access the data from the ArcGIS website. I used Update cursor to join the two FIPS colums together in the shapefile. From that I was able to convert the county shapefiles into GeoJSON files. I used cursor to access the population data and then used that data to extract the ten most populated counties. The whole process took 10 hours to complete. "
   ]
  },
  {
   "cell_type": "code",
   "execution_count": null,
   "metadata": {
    "collapsed": true
   },
   "outputs": [],
   "source": []
  }
 ],
 "metadata": {
  "kernelspec": {
   "display_name": "Python 2",
   "language": "python",
   "name": "python2"
  },
  "language_info": {
   "codemirror_mode": {
    "name": "ipython",
    "version": 2
   },
   "file_extension": ".py",
   "mimetype": "text/x-python",
   "name": "python",
   "nbconvert_exporter": "python",
   "pygments_lexer": "ipython2",
   "version": "2.7.14"
  }
 },
 "nbformat": 4,
 "nbformat_minor": 2
}
